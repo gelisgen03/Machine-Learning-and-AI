{
  "cells": [
    {
      "cell_type": "markdown",
      "metadata": {
        "id": "GlCii2EY_7r6"
      },
      "source": [
        "# BAŞLARKEN\n",
        "Hepiniz hoşgeldiniz! Bu ilk haftaki dersimizde Python Basics olarak isimlendirebileceğimiz konulara değineceğiz. Ayrıca dersimizin içerisinde 2 adet notlandırması bulunmayan quiz yer alacak. Quizler her an gerçekleşebileceği için hazırlıklı olmanızda fayda var 😊\n"
      ]
    },
    {
      "cell_type": "markdown",
      "metadata": {
        "id": "cHXMP8-a_5fz"
      },
      "source": [
        "![python_logo.png](data:image/png;base64,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)"
      ]
    },
    {
      "cell_type": "markdown",
      "metadata": {
        "id": "mMcZ74ugBoa3"
      },
      "source": [
        "# PYTHON NEDİR?\n",
        "Python, nesne yönelimli, yorumlamalı ve etkileşimli yüksek seviyeli bir programlama dilidir.\n",
        "\n",
        "--> Yüksek seviyeden kastımız kullanıcı arayüzlerine daha yakın olmasıdır.\n",
        "\n",
        "--> VHDL/Assembly/C gibi diller makine arayüzlerine daha yakındır.\n",
        "\n",
        "--> Kullanıcı arayüzüne yakın diller daha az fonksiyon kullanarak daha çok iş yapmamızı sağlar, ancak gömülü yazılım, kart programlama vb. işlerde kullanmamız zordur.\n",
        "\n",
        "--> Python yazım mantığı ve takibi bakımından indentation(girinti) kullanan interpreted(yorumlanmış) bir dildir.\n"
      ]
    },
    {
      "cell_type": "markdown",
      "metadata": {
        "id": "jqZP90_-DExX"
      },
      "source": [
        "# VARIABLES (DEĞİŞKENLER)\n",
        "\n",
        "Python'da her şey bir nesnedir. Sayılar, dizeler (metin), işlevler farklı türde nesnelerdir.\n",
        "* Numbers\n",
        "* Strings\n",
        "* Lists\n",
        "* Dictionaries\n",
        "* Tuples\n",
        "* Files\n",
        "* Booleans\n",
        "* Functions\n",
        "* Modules\n",
        "* Classes"
      ]
    },
    {
      "cell_type": "markdown",
      "metadata": {
        "id": "fcmc9bWkDrOj"
      },
      "source": [
        "Python Değişken Adlandırma Kuralları\n",
        "\n",
        "Değişken adı bir harf veya alt çizgi karakteri ile başlamalıdır.\n",
        "\n",
        "-->Bir değişken adı bir sayı ile başlayamaz\n",
        "\n",
        "-->Bir değişken adı yalnızca sayısal karakterler ve alt çizgiler (A-z, 0-9 ve _ ) içerebilir\n",
        "\n",
        "-->Değişken adları büyük/küçük harfe duyarlıdır; feyzullah, Feyzullah ve FEYZULLAH farklı değişkenlerdir."
      ]
    },
    {
      "cell_type": "markdown",
      "metadata": {},
      "source": [
        "### Mnemonic Variable Names\n",
        "\n",
        "Değişkenleri, içlerinde ne saklamayı planladığımızı hatırlamamıza yardımcı olması için adlandırırız (“mnemonic” = “hafıza yardımcısı”)"
      ]
    },
    {
      "cell_type": "code",
      "execution_count": null,
      "metadata": {},
      "outputs": [],
      "source": [
        "first_name = \"Feyzullah\"\n",
        "last_name = \"KARA\"\n",
        "age = 24\n",
        "country = \"Türkiye\"\n",
        "city = \"Adana\"\n",
        "capital_city = \"Ankara\"\n",
        "\n",
        "first_name, last_name, country, age = 'Feyzullah', 'KARA', 'Türkiye', 24.25\n",
        "\n",
        "\n",
        "# YANLIS ISIMLENDIRME ORNEKLERI\n",
        "# first-name\n",
        "# first@name\n",
        "# first$name\n",
        "# num-1\n",
        "# 1num"
      ]
    },
    {
      "cell_type": "code",
      "execution_count": null,
      "metadata": {},
      "outputs": [],
      "source": [
        "var1 = 2\n",
        "var1 = 'metin_verisi' #var1'i tekrar başka bir veriyle tanımlayabiliriz\n",
        "var2 = var1 #var2'i mevcut tanımlanmış veriyle tanımlayabiliriz\n",
        "var1 = 1\n",
        "print(var1, var2)"
      ]
    },
    {
      "cell_type": "markdown",
      "metadata": {},
      "source": [
        "Yorum '#' işaretinden sonraki her şey Python tarafından yoksayılır. Kodlamada yorumlar şunlar için kullanılır:\n",
        "\n",
        "  - Bir kod dizisinde ne olacağını açıklamak\n",
        "  - Kodu yazan belge veya diğer yardımcı bilgiler\n",
        "  - Bir kod satırını kapatmak - belki geçici olarak"
      ]
    },
    {
      "cell_type": "markdown",
      "metadata": {
        "id": "3MO-lVzwDd4D"
      },
      "source": [
        "# EXPRESSIONS and STATEMENTS\n"
      ]
    },
    {
      "cell_type": "markdown",
      "metadata": {
        "id": "wFr2-cXaFtRg"
      },
      "source": [
        "* Expression, her zaman bir sonuç değeri üreten veya döndüren değerler, değişkenler, operatörler ve fonksiyon çağrılarının bir dizisi veya birleşimidir.\n",
        "\n",
        "* Bir python yorumlayıcısının yürütebileceği herhangi bir talimat, 'statement' olarak adlandırılır.\n",
        "\n",
        "* Bu talimatlar değişkenin değerini değiştirebileceği gibi ekrana değişkeni yazdırma, kullanıcıdan değişken alma gibi operasyonları da barındırabilir.\n"
      ]
    },
    {
      "cell_type": "code",
      "execution_count": null,
      "metadata": {
        "colab": {
          "base_uri": "https://localhost:8080/"
        },
        "id": "dhjQ2d3HFAIG",
        "outputId": "afde9aca-9bad-4120-a624-9a839b9bf905"
      },
      "outputs": [],
      "source": [
        "x = 'metin' # statement\n",
        "1 < 2 # expression\n",
        "x = 10 # statement\n",
        "x + 10     # expression\n",
        "x = x + 10 # statement\n",
        "print(\"defined string: \", x)    # statement\n",
        "print(\"format string: %d\" %  x) # statement"
      ]
    },
    {
      "cell_type": "code",
      "execution_count": null,
      "metadata": {},
      "outputs": [],
      "source": [
        "\"metin\" == 'metin'"
      ]
    },
    {
      "cell_type": "code",
      "execution_count": null,
      "metadata": {
        "colab": {
          "base_uri": "https://localhost:8080/"
        },
        "id": "_1kupnU_GFSK",
        "outputId": "c585418c-3ad5-4da3-e377-6158e0f88d83"
      },
      "outputs": [],
      "source": [
        "y = input()\n",
        "print(\"girdi: \", y, \"veri tipi:\", type(y))"
      ]
    },
    {
      "cell_type": "code",
      "execution_count": null,
      "metadata": {},
      "outputs": [],
      "source": [
        "# .ipynb defterlerinde bir hücrenin son satırında bir expresion yer alırsa onun değeri gösterilir\n",
        "y # görüntüleme (viewing)"
      ]
    },
    {
      "cell_type": "code",
      "execution_count": null,
      "metadata": {},
      "outputs": [],
      "source": [
        "print(y) # yazdırma (printing)"
      ]
    },
    {
      "cell_type": "markdown",
      "metadata": {
        "id": "M8SOw68mJkdH"
      },
      "source": [
        "Farklı veri tipleri için uygulanabilecek fonksiyonları şu şekilde listeleyebilirsiniz:"
      ]
    },
    {
      "cell_type": "code",
      "execution_count": null,
      "metadata": {},
      "outputs": [],
      "source": [
        "dir()"
      ]
    },
    {
      "cell_type": "code",
      "execution_count": null,
      "metadata": {
        "colab": {
          "base_uri": "https://localhost:8080/"
        },
        "id": "GCoRL93aJK5o",
        "outputId": "5e816db4-06c9-4c45-f36c-7c6466a806c3"
      },
      "outputs": [],
      "source": [
        "dir(__builtins__)"
      ]
    },
    {
      "cell_type": "code",
      "execution_count": null,
      "metadata": {},
      "outputs": [],
      "source": [
        "help('keywords')"
      ]
    },
    {
      "cell_type": "markdown",
      "metadata": {},
      "source": [
        "Python'da rezerve edilmiş anahtar kelimeler vardır. Değişkenleri veya fonksiyonları tanımlarken anahtar kelimeler kullanılamaz.\n",
        "\n",
        "Ayrıca Python'ın builtin fonksiyonlarını da değişken veya fonksiyon tanımlamak için kullanmayınız."
      ]
    },
    {
      "cell_type": "code",
      "execution_count": null,
      "metadata": {},
      "outputs": [],
      "source": [
        "False = \"True\""
      ]
    },
    {
      "cell_type": "code",
      "execution_count": null,
      "metadata": {},
      "outputs": [],
      "source": [
        "while = 'vgdfgdfgfd'"
      ]
    },
    {
      "cell_type": "markdown",
      "metadata": {},
      "source": [
        "Aşağıdaki hücreyi çalıştırdıktan sonra print ve max fonskiyonları kullanabilmek için defteri yeniden başlatmalısınız!"
      ]
    },
    {
      "cell_type": "code",
      "execution_count": null,
      "metadata": {},
      "outputs": [],
      "source": [
        "# print = 'bunu yapmayın'\n",
        "# max = 3 # bunu da yapmayın"
      ]
    },
    {
      "cell_type": "code",
      "execution_count": null,
      "metadata": {},
      "outputs": [],
      "source": [
        "print(\"a\")"
      ]
    },
    {
      "cell_type": "code",
      "execution_count": null,
      "metadata": {},
      "outputs": [],
      "source": [
        "max(3, 4)"
      ]
    },
    {
      "cell_type": "code",
      "execution_count": null,
      "metadata": {},
      "outputs": [],
      "source": [
        "dir()"
      ]
    },
    {
      "cell_type": "code",
      "execution_count": null,
      "metadata": {
        "colab": {
          "base_uri": "https://localhost:8080/"
        },
        "id": "xgXJzL8xMACj",
        "outputId": "336a2d70-8d9d-42d1-e6d6-6d9ba1318246"
      },
      "outputs": [],
      "source": [
        "a, b, c, d, e = 7, 2.8, \"me\", [2,7], (3,5)\n",
        "print(\"type of a: \", type(a), \"\\ntype of b: \", type(b), \"\\ntype of c: \", type(c), \"\\ntype of d: \", type(d), \"\\ntype of e: \", type(e))"
      ]
    },
    {
      "cell_type": "markdown",
      "metadata": {},
      "source": [
        "Float ve int arasındaki farklardan biri, iki int değerinin eşitlik karşılaştırmasına güvenebilmemizdir, ancak float değerler için durum böyle değildir."
      ]
    },
    {
      "cell_type": "code",
      "execution_count": null,
      "metadata": {},
      "outputs": [],
      "source": [
        "#integer comparison\n",
        "a = 1\n",
        "b = 1\n",
        "a == b"
      ]
    },
    {
      "cell_type": "code",
      "execution_count": null,
      "metadata": {},
      "outputs": [],
      "source": [
        "#floating point comparison\n",
        "a = 0.45\n",
        "b = 0.35 +0.1\n",
        "a == b"
      ]
    },
    {
      "cell_type": "code",
      "execution_count": null,
      "metadata": {},
      "outputs": [],
      "source": [
        "y = 0.33\n",
        "z = 0.33\n",
        "y == z"
      ]
    },
    {
      "cell_type": "markdown",
      "metadata": {},
      "source": [
        "Python, çok küçük ve çok büyük sayıları bilimsel gösterimlerle arayüze yazar"
      ]
    },
    {
      "cell_type": "code",
      "execution_count": null,
      "metadata": {},
      "outputs": [],
      "source": [
        "smallNumber = 0.0001 \n",
        "print(smallNumber)\n",
        "smallerNumber = 0.00001 # 5 digits after decimal is printed in scientific notation\n",
        "print(smallerNumber)\n",
        "bigNumber = 1002003004005006.0\n",
        "print(bigNumber)\n",
        "biggerNumber = 10020030040050060.0\n",
        "print(biggerNumber)"
      ]
    },
    {
      "cell_type": "code",
      "execution_count": null,
      "metadata": {},
      "outputs": [],
      "source": [
        "print(1e-16)\n",
        "print(1e-5)\n",
        "print(1e-4)\n",
        "print(1e-3)\n",
        "print(1e3)\n",
        "print(1e15)\n",
        "print(1e16)"
      ]
    },
    {
      "cell_type": "markdown",
      "metadata": {},
      "source": [
        "Yeni bir satır yazdırmak için dizede <b>\\n</b> kullanıyoruz"
      ]
    },
    {
      "cell_type": "code",
      "execution_count": null,
      "metadata": {},
      "outputs": [],
      "source": [
        "manyLineText= \"First line\\t next sentence \\nNext line\\nThird line\"\n",
        "print(manyLineText)"
      ]
    },
    {
      "cell_type": "markdown",
      "metadata": {},
      "source": [
        "Birden fazla satır içeren dizileri tanımlamak için üçlü tırnak kullanabiliriz."
      ]
    },
    {
      "cell_type": "code",
      "execution_count": 4,
      "metadata": {},
      "outputs": [
        {
          "name": "stdout",
          "output_type": "stream",
          "text": [
            " \n",
            "    text with more than \n",
            "    one lines\n",
            "    \n",
            "    last line\n",
            "\n"
          ]
        }
      ],
      "source": [
        "manyLineText = \"\"\" \n",
        "    text with more than \n",
        "    one lines\n",
        "    \n",
        "    last line\n",
        "\"\"\"\n",
        "print(manyLineText)"
      ]
    },
    {
      "cell_type": "markdown",
      "metadata": {
        "id": "l2aJByB_JyvP"
      },
      "source": [
        "# OPERATORS  \n",
        "\n",
        "--> Operatörler basit işlemleri (toplama, çıkarma, çarpma, bölme, kalan, üs alma vb.) gerçekleştirmemizi sağlarlar.\n"
      ]
    },
    {
      "cell_type": "code",
      "execution_count": null,
      "metadata": {
        "colab": {
          "base_uri": "https://localhost:8080/"
        },
        "id": "m718FBOaJxi4",
        "outputId": "0900ec86-ac52-40a7-ffc2-4dea1374353b"
      },
      "outputs": [],
      "source": [
        "# Declare the variables as a and b\n",
        "\n",
        "a = 10 # a is a variable name and 3 is an integer\n",
        "b = 3 # b is a variable name and 3 is an integer\n",
        "\n",
        "# Arithmetic operations and assigning the result to a variable\n",
        "total = a + b\n",
        "diff = a - b\n",
        "product = a * b\n",
        "division = a / b\n",
        "remainder = a % b\n",
        "floor_division = a // b # or called 'integer division' as well\n",
        "exponential = a ** b\n",
        "\n",
        "# OPERATOR RESULTS\n",
        "print('a + b = ', total)\n",
        "print('a - b = ', diff)\n",
        "print('a * b = ', product)\n",
        "print('a / b = ', division)\n",
        "print('a % b = ', remainder)\n",
        "print('a // b = ', floor_division)\n",
        "print('a ** b = ', exponential)"
      ]
    },
    {
      "cell_type": "code",
      "execution_count": 5,
      "metadata": {},
      "outputs": [
        {
          "name": "stdout",
          "output_type": "stream",
          "text": [
            "Help on built-in function pow in module builtins:\n",
            "\n",
            "pow(base, exp, mod=None)\n",
            "    Equivalent to base**exp with 2 arguments or base**exp % mod with 3 arguments\n",
            "    \n",
            "    Some types, such as ints, are able to use a more efficient algorithm when\n",
            "    invoked using the three argument form.\n",
            "\n"
          ]
        }
      ],
      "source": [
        "help(pow)"
      ]
    },
    {
      "cell_type": "markdown",
      "metadata": {},
      "source": [
        "Operatörleri bir araya getirdiğimizde Python hangi işlemi önce gerçekleştireceğini bir \"operatör önceliği\" kuralına göre yapar.\n",
        "\n",
        "\n",
        "Operatörlerin öncelik sırası:\n",
        "\n",
        "* Parantezler\n",
        "* Üs alma \n",
        "* Çarpma, Bölme ve Kalan\n",
        "* Toplama ve Çıkarma\n",
        "* Soldan sağa"
      ]
    },
    {
      "cell_type": "code",
      "execution_count": null,
      "metadata": {},
      "outputs": [],
      "source": [
        "x = 1 + 2 ** 3 / 4 * 5 * (2 + 2)\n",
        "print(x)"
      ]
    },
    {
      "cell_type": "markdown",
      "metadata": {
        "id": "ZhqmfCKPCg5K"
      },
      "source": [
        "--> Python yüksek seviye (high-level) bir yazılım dili olduğundan:\n",
        "* float, int veri tipleriyle beraber işlem yapabilir,\n",
        "* stringleri birleştirebilir,\n",
        "* FAKAT string ve int/float işlemlerinde hata verir."
      ]
    },
    {
      "cell_type": "code",
      "execution_count": null,
      "metadata": {
        "colab": {
          "base_uri": "https://localhost:8080/"
        },
        "id": "fpxGLdWnLeJs",
        "outputId": "78bc9fc0-24eb-40c1-a500-cb180e1b33bb"
      },
      "outputs": [],
      "source": [
        "# EXAMPLE\n",
        "print(\"float + int\", 2.7 + 1)\n",
        "print(\"string concatenation: \", \"aaa\" + \"bbb\")"
      ]
    },
    {
      "cell_type": "code",
      "execution_count": null,
      "metadata": {
        "colab": {
          "base_uri": "https://localhost:8080/"
        },
        "id": "2FnacnuHLlTD",
        "outputId": "69d8acde-64cb-4f63-a7d0-ed17dcb7753c"
      },
      "outputs": [],
      "source": [
        "# print(\"aaa\" + 2)      # hata verir\n",
        "print(\"aaa\" + str(2))   # calisir"
      ]
    },
    {
      "cell_type": "code",
      "execution_count": null,
      "metadata": {},
      "outputs": [],
      "source": [
        "a = A()"
      ]
    },
    {
      "cell_type": "code",
      "execution_count": null,
      "metadata": {},
      "outputs": [],
      "source": [
        "print"
      ]
    },
    {
      "cell_type": "code",
      "execution_count": null,
      "metadata": {},
      "outputs": [],
      "source": [
        "a = [1,2,3]\n",
        "str(print)"
      ]
    },
    {
      "cell_type": "markdown",
      "metadata": {
        "id": "-ejkwr5-1l1U"
      },
      "source": [
        "# Listeler ve Karakter Dizileri (Strings)\n",
        "\n",
        "--> Listeler farklı veri tipleri barındırabilen bir veri yapısıdır. Köşeli parantez ile tanımlanır.\n",
        "\n",
        "--> Her string aynı zamanda aynı zamanda bir listedir.\n",
        "\n",
        "(Haftaya daha detaylı anlatılacak.)"
      ]
    },
    {
      "cell_type": "code",
      "execution_count": null,
      "metadata": {
        "id": "4t6fLvHX1lRu"
      },
      "outputs": [],
      "source": [
        "lst1 = [1,2,'x', 'Feyz', '2.5', 2.5]\n",
        "lst2 = [8, 4, 5, 6, 2, 1]\n",
        "string_example = 'YediHilal'"
      ]
    },
    {
      "cell_type": "code",
      "execution_count": null,
      "metadata": {
        "colab": {
          "base_uri": "https://localhost:8080/"
        },
        "id": "zTHkLy5f2tHf",
        "outputId": "587ae187-7cfb-4895-a094-b89c24e01b9f"
      },
      "outputs": [],
      "source": [
        "print(string_example[2])\n",
        "print(string_example[-1]) # negative indexing\n",
        "print(string_example[0])"
      ]
    },
    {
      "cell_type": "code",
      "execution_count": null,
      "metadata": {
        "colab": {
          "base_uri": "https://localhost:8080/"
        },
        "id": "cduMNpsL24bJ",
        "outputId": "644c57fa-95d6-4fc5-a75f-e3cbdfba919e"
      },
      "outputs": [],
      "source": [
        "print(\"sum: \", sum(lst2), \"min: \", min(lst2), \"max: \", max(lst2))\n",
        "print(lst2.index(2))"
      ]
    },
    {
      "cell_type": "markdown",
      "metadata": {
        "id": "EJEW7SF5MmF0"
      },
      "source": [
        "# Şartlar (Conditions) ve Koşullu İfadeler (Conditionals)\n",
        "\n",
        "Koşullu ifadeler if veya if-else veya if-elif-else yapıları ile oluşturulur.\n",
        "\n",
        "* Sayısal karşılaştırma operatorleri: >, >=, <, <=, ==, !=\n",
        "\n",
        "* Mantıksal operatorler: and, or, not\n",
        "\n",
        "\n",
        "Ek olarak Python şunları da karşılaştırma ve kontrol operatörü olarak kullanır:\n",
        "\n",
        "* is: Her iki değişken de aynı nesne ise true değerini döndürür (x, y'dir)\n",
        "\n",
        "* is not: Her iki değişken de aynı nesne değilse true değerini döndürür (x, y değildir)\n",
        "\n",
        "* in: Sorgulanan liste belirli bir öğe içeriyorsa True döndürür (y'de x)\n",
        "\n",
        "* not in: Sorgulanan listede belirli bir öğe yoksa True döndürür (y'de x)"
      ]
    },
    {
      "cell_type": "code",
      "execution_count": null,
      "metadata": {
        "colab": {
          "base_uri": "https://localhost:8080/"
        },
        "id": "awxYulOZOAhf",
        "outputId": "63fac3c1-a807-46ed-8c4f-cc8fc799c08f"
      },
      "outputs": [],
      "source": [
        "a = 7\n",
        "b = 12\n",
        "c = 20\n",
        "a < b # condition"
      ]
    },
    {
      "cell_type": "code",
      "execution_count": null,
      "metadata": {},
      "outputs": [],
      "source": [
        "print(a == b and c > a)\n",
        "print(a != b or c <= a)\n",
        "print(a < b and c > a or b > a)\n",
        "print(type(a) == type(b) and type(a) == type(c))"
      ]
    },
    {
      "cell_type": "code",
      "execution_count": null,
      "metadata": {},
      "outputs": [],
      "source": [
        "# IF, ELSE ve ELSE IF koşulları\n",
        "\n",
        "if a > b: # conditional statement\n",
        "    print(\"a > b\")\n",
        "elif a < b: # conditional statement\n",
        "    print(\"a < b\")\n",
        "else: # conditional statement\n",
        "    print(\"a == b\")"
      ]
    },
    {
      "cell_type": "markdown",
      "metadata": {
        "id": "XMZOWXusyGEK"
      },
      "source": [
        "### İçinde (in) Kontrolü"
      ]
    },
    {
      "cell_type": "code",
      "execution_count": 8,
      "metadata": {
        "colab": {
          "base_uri": "https://localhost:8080/"
        },
        "id": "Ve5peesHOvmp",
        "outputId": "d0b6312e-5279-4f97-9e19-07a26c518804"
      },
      "outputs": [
        {
          "name": "stdout",
          "output_type": "stream",
          "text": [
            "True\n"
          ]
        }
      ],
      "source": [
        "a=2\n",
        "list1 = [2,4,5,7]\n",
        "list2 = [1,2,3]\n",
        "print(a in list1)"
      ]
    },
    {
      "cell_type": "markdown",
      "metadata": {
        "id": "6R3mf7BQyKi0"
      },
      "source": [
        "### Negatif Şart Tanımlama:  'not'"
      ]
    },
    {
      "cell_type": "code",
      "execution_count": null,
      "metadata": {
        "colab": {
          "base_uri": "https://localhost:8080/"
        },
        "id": "E5rOx3vHO5zA",
        "outputId": "38b2978f-3249-422b-f6d0-04343a61028c"
      },
      "outputs": [],
      "source": [
        "if a not in list1:\n",
        "    print(\"a: {} listesinin içinde değildir\".format(list1))\n",
        "else:\n",
        "    print(\"a: {} listesinin içindedir\".format(list1))"
      ]
    },
    {
      "cell_type": "code",
      "execution_count": null,
      "metadata": {},
      "outputs": [],
      "source": [
        "if a not in list1:\n",
        "     print(\"a: {} listesinin içinde değildir\".format(list1))\n",
        "elif a in list1:\n",
        "    print(\"a: {} listesinin içindedir\".format(list1))\n",
        "elif a not in list2:\n",
        "     print(\"a: {} listesinin içinde değildir\".format(list2))\n",
        "elif a in list2:\n",
        "    print(\"a: {} listesinin içindedir\".format(list2))\n",
        "# else:\n",
        "#     print(\"a, iki listede de değildir.\")"
      ]
    },
    {
      "cell_type": "markdown",
      "metadata": {},
      "source": [
        "### 'is' kontrolü"
      ]
    },
    {
      "cell_type": "code",
      "execution_count": 9,
      "metadata": {},
      "outputs": [
        {
          "name": "stdout",
          "output_type": "stream",
          "text": [
            "False\n",
            "True\n"
          ]
        }
      ],
      "source": [
        "a = 7\n",
        "b = 3\n",
        "c = 7\n",
        "print(a is b)\n",
        "print(a is c)"
      ]
    },
    {
      "cell_type": "code",
      "execution_count": null,
      "metadata": {},
      "outputs": [],
      "source": [
        "str1 = 'YediHilal'\n",
        "str2 = 'YediHilal'\n",
        "\n",
        "print(str1 is str1)\n",
        "print(str1 == str1)"
      ]
    },
    {
      "cell_type": "code",
      "execution_count": null,
      "metadata": {},
      "outputs": [],
      "source": [
        "list1 = [2,4,5,7]\n",
        "list2 = [1,2,3]\n",
        "\n",
        "print(list1 is list2)\n",
        "list1 = list2\n",
        "print(list1 is list2)"
      ]
    },
    {
      "cell_type": "code",
      "execution_count": null,
      "metadata": {},
      "outputs": [],
      "source": [
        "list1 = [2,4,5,7]\n",
        "list2 = [2,4,5,7]\n",
        "\n",
        "print(list1 is list2) \n",
        "print(list1 == list2)\n",
        "list1 = list2\n",
        "print(list1 == list2)"
      ]
    },
    {
      "cell_type": "code",
      "execution_count": null,
      "metadata": {},
      "outputs": [],
      "source": [
        "print(type(list1) is type(list1))\n",
        "print(type(list1) == type(list1))\n",
        "\n",
        "list1_type = type(list1)\n",
        "list1_type"
      ]
    },
    {
      "cell_type": "code",
      "execution_count": null,
      "metadata": {},
      "outputs": [],
      "source": [
        "print(list1_type)"
      ]
    },
    {
      "cell_type": "code",
      "execution_count": null,
      "metadata": {},
      "outputs": [],
      "source": [
        "print(list1_type is list)\n",
        "print(list1_type == list)"
      ]
    },
    {
      "cell_type": "code",
      "execution_count": null,
      "metadata": {},
      "outputs": [],
      "source": [
        "type(list1_type)"
      ]
    },
    {
      "cell_type": "code",
      "execution_count": null,
      "metadata": {},
      "outputs": [],
      "source": [
        "print(type(list1_type))"
      ]
    },
    {
      "cell_type": "code",
      "execution_count": null,
      "metadata": {},
      "outputs": [],
      "source": [
        "print(type(list1_type) is list1_type)\n",
        "print(type(list1_type) is type)"
      ]
    },
    {
      "cell_type": "markdown",
      "metadata": {
        "id": "nbji9GIyyXrS"
      },
      "source": [
        "### Şarta göre değişken tanımlama"
      ]
    },
    {
      "cell_type": "code",
      "execution_count": null,
      "metadata": {
        "colab": {
          "base_uri": "https://localhost:8080/"
        },
        "id": "L1UPwSl5PO1J",
        "outputId": "b19918bb-a54d-484a-f6f6-4a6a039af2ce"
      },
      "outputs": [],
      "source": [
        "b = 12 if a not in list1 else 2\n",
        "b"
      ]
    },
    {
      "cell_type": "markdown",
      "metadata": {},
      "source": [
        "### Şart ifadesinin değerini değişken olarak tanımlama"
      ]
    },
    {
      "cell_type": "code",
      "execution_count": null,
      "metadata": {},
      "outputs": [],
      "source": [
        "predicate1 = a not in list1 and a in list2 or a == 2\n",
        "predicate1"
      ]
    },
    {
      "cell_type": "markdown",
      "metadata": {},
      "source": [
        "### İç içe koşullu ifadeler (Nested conditionals)"
      ]
    },
    {
      "cell_type": "code",
      "execution_count": null,
      "metadata": {},
      "outputs": [],
      "source": [
        "x, y = 10, 5\n",
        "\n",
        "if x == y:\n",
        "    print('x and y are equal')\n",
        "else:\n",
        "    if x < y:\n",
        "        print('x is less than y')\n",
        "    else:\n",
        "        print('x is greater than y')"
      ]
    },
    {
      "cell_type": "markdown",
      "metadata": {},
      "source": [
        "### Mantıksal ifadelerin kısa devre değerlendirmesi (Short-circuit evaluation)\n",
        "Python, x >= 2 and (x/y) > 2 gibi bir mantıksal ifadeyi işlerken, ifadeyi soldan sağa doğru değerlendirir. and'in tanımı nedeniyle, x 2'den küçükse, x >= 2 ifadesi yanlıştır ve bu nedenle (x/y) > 2'nin doğru veya doğru olarak değerlendirilmesinden bağımsız olarak ifadenin tamamı yanlış olur.\n",
        "\n",
        "Python, bir mantıksal ifadenin geri kalanını değerlendirerek elde edilecek bir şey olmadığını algıladığında, değerlendirmesini durdurur ve mantıksal ifadenin geri kalanındaki hesaplamaları yapmaz. Mantıksal bir ifadenin değerlendirilmesi, genel değer zaten bilindiği için durduğunda, buna değerlendirmeyi kısa devre yapma denir."
      ]
    },
    {
      "cell_type": "code",
      "execution_count": null,
      "metadata": {},
      "outputs": [],
      "source": [
        "x = 1\n",
        "y = 0\n",
        "x >= 2 and (x/y) > 2"
      ]
    },
    {
      "cell_type": "code",
      "execution_count": null,
      "metadata": {},
      "outputs": [],
      "source": [
        "x = 3\n",
        "y = 0\n",
        "x >= 2 and (x/y) > 2"
      ]
    },
    {
      "cell_type": "markdown",
      "metadata": {
        "id": "ZHeAjPbQzeJR"
      },
      "source": [
        "# LOOPS (DÖNGÜLER)\n",
        "\n",
        "--> Çoğu yazılım dilinde olduğu gibi python yazılım dilinde de 'for' ve 'while' döngüleri barınmaktadır.\n"
      ]
    },
    {
      "cell_type": "markdown",
      "metadata": {
        "id": "tECxwszP0ChI"
      },
      "source": [
        "### For döngüleri"
      ]
    },
    {
      "cell_type": "code",
      "execution_count": null,
      "metadata": {},
      "outputs": [],
      "source": [
        "numbers = [0, 1, 2, 3, 4, 5]\n",
        "for number in numbers: \n",
        "    print(number)      "
      ]
    },
    {
      "cell_type": "code",
      "execution_count": null,
      "metadata": {
        "colab": {
          "base_uri": "https://localhost:8080/"
        },
        "id": "u1xXejI2z_WM",
        "outputId": "74660944-d725-42b6-c46a-60877c720163"
      },
      "outputs": [],
      "source": [
        "# range function\n",
        "print(list(range(5)))      # 0'dan 4'e birer artis\n",
        "print(list(range(1,10,1))) # 1'den 10'a birer artis\n",
        "print(list(range(1,16,2))) # 1'den 15'e ikiser artis"
      ]
    },
    {
      "cell_type": "code",
      "execution_count": null,
      "metadata": {
        "colab": {
          "base_uri": "https://localhost:8080/"
        },
        "id": "CArzq-vP0Rtn",
        "outputId": "bcccfc04-91d4-4c2b-de0c-c53212ddd7bc"
      },
      "outputs": [],
      "source": [
        "# for döngüsü örneği\n",
        "for i in range(5):\n",
        "    print(i)"
      ]
    },
    {
      "cell_type": "code",
      "execution_count": null,
      "metadata": {
        "colab": {
          "base_uri": "https://localhost:8080/"
        },
        "id": "gSu6UXAJ07uy",
        "outputId": "1242b9ee-01cd-4472-c976-3a81716d3ce9"
      },
      "outputs": [],
      "source": [
        "for j in range(1,16,2):\n",
        "    print(j)"
      ]
    },
    {
      "cell_type": "code",
      "execution_count": null,
      "metadata": {
        "colab": {
          "base_uri": "https://localhost:8080/"
        },
        "id": "Vw8NgEZp1BX6",
        "outputId": "fb69e12e-11e5-4379-bf3a-0c3692cb84ed"
      },
      "outputs": [],
      "source": [
        "# Listeleri sonra anlatacağımız için burayı atlayabiliriz\n",
        "\n",
        "isimler = ['A', 'B', 'C', 'D', 'E']\n",
        "for isim in isimler: # pass by value\n",
        "    print(isim)\n",
        "\n",
        "for i in range(len(isimler)): # pass by reference\n",
        "    print(isimler[i])"
      ]
    },
    {
      "cell_type": "code",
      "execution_count": null,
      "metadata": {},
      "outputs": [],
      "source": [
        "language = 'Python'\n",
        "for letter in language:\n",
        "    print(letter)"
      ]
    },
    {
      "cell_type": "markdown",
      "metadata": {},
      "source": [
        "### While Döngüleri"
      ]
    },
    {
      "cell_type": "code",
      "execution_count": null,
      "metadata": {},
      "outputs": [],
      "source": [
        "count = 0\n",
        "while count < 5:\n",
        "    print(count)\n",
        "    count = count + 1"
      ]
    },
    {
      "cell_type": "code",
      "execution_count": null,
      "metadata": {},
      "outputs": [],
      "source": [
        "count = 10\n",
        "while count < 5:\n",
        "    print(count)\n",
        "    count = count + 1\n",
        "else:\n",
        "    print(count)"
      ]
    },
    {
      "cell_type": "markdown",
      "metadata": {},
      "source": [
        "### Break, Continue, ve Pass"
      ]
    },
    {
      "cell_type": "code",
      "execution_count": null,
      "metadata": {},
      "outputs": [],
      "source": [
        "numbers = [0, 1, 2, 3, 4, 5]\n",
        "for number in numbers:    \n",
        "    if number > 4:\n",
        "        break  \n",
        "    print(number)"
      ]
    },
    {
      "cell_type": "code",
      "execution_count": null,
      "metadata": {},
      "outputs": [],
      "source": [
        "count = 0\n",
        "while count < 5:\n",
        "    print(count)\n",
        "    count = count + 1\n",
        "    if count == 3:\n",
        "        break"
      ]
    },
    {
      "cell_type": "code",
      "execution_count": null,
      "metadata": {},
      "outputs": [],
      "source": [
        "count = 0\n",
        "while count < 5:\n",
        "   \n",
        "    count = count + 1\n",
        "    if count == 3:\n",
        "        continue\n",
        "    print(count)\n",
        "    "
      ]
    },
    {
      "cell_type": "code",
      "execution_count": 10,
      "metadata": {},
      "outputs": [
        {
          "name": "stdout",
          "output_type": "stream",
          "text": [
            "1\n",
            "2\n",
            "4\n",
            "5\n"
          ]
        }
      ],
      "source": [
        "count = 0\n",
        "while count < 5:\n",
        "    count = count + 1\n",
        "    if count == 3:\n",
        "        pass\n",
        "    else:\n",
        "        print(count)"
      ]
    },
    {
      "cell_type": "code",
      "execution_count": null,
      "metadata": {},
      "outputs": [],
      "source": [
        "numbers = [0, 1, 2, 3, 4, 5]\n",
        "for number in numbers:    \n",
        "    if number % 2 == 0:\n",
        "        continue  \n",
        "    print(number)"
      ]
    },
    {
      "cell_type": "markdown",
      "metadata": {},
      "source": [
        "# Fonksiyonlar (Functions)\n",
        "\n",
        "--> Fonksiyonlar belirli bir işlevi yerine getirmek maksadıyla kullanılmaktadır.\n",
        "\n",
        "--> Uzun kod satırlarını art arda yazmak yerine algoritmayı belirli aşamalara bölüp fonksiyonlar halinde kodlamak kodun okunabilirliğini ve geliştirme kolaylığını artırır.\n",
        "\n",
        "--> Fonksiyonları kodlarken en önemli nokta fonksiyonlara verilen girdiler ve fonksiyonlardan dönen verileri kontrol etmek, doğru girdi ve çıktıları yönetebilmektir."
      ]
    },
    {
      "cell_type": "markdown",
      "metadata": {},
      "source": [
        "### Parametresiz fonskiyon"
      ]
    },
    {
      "cell_type": "code",
      "execution_count": null,
      "metadata": {},
      "outputs": [],
      "source": [
        "def add_two_numbers():\n",
        "    num_one = 2\n",
        "    num_two = 3\n",
        "    total = num_one + num_two\n",
        "    print(total)\n",
        "\n",
        "add_two_numbers()"
      ]
    },
    {
      "cell_type": "markdown",
      "metadata": {},
      "source": [
        "### Parametreli fonksiyon"
      ]
    },
    {
      "cell_type": "code",
      "execution_count": null,
      "metadata": {},
      "outputs": [],
      "source": [
        "def add_two_numbers(num_one, num_two):\n",
        "    total = num_one + num_two\n",
        "    print(total)\n",
        "\n",
        "add_two_numbers(12, 13.5)"
      ]
    },
    {
      "cell_type": "markdown",
      "metadata": {},
      "source": [
        "### Değer döndüren fonksiyon\n",
        "\n",
        "Bir fonksiyon bir değer döndürmezse, fonksiyon varsayılan olarak 'None' döndürür. Bir fonksiyon sahip bir değer döndürmek için, 'return' anahtar kelimesini ve ardından döndürdüğümüz değişkeni kullanırız. Bir fonksiyondan her türlü veri tipini döndürebiliriz."
      ]
    },
    {
      "cell_type": "code",
      "execution_count": null,
      "metadata": {},
      "outputs": [],
      "source": [
        "def add_two_numbers():\n",
        "    num_one = 2\n",
        "    num_two = 3\n",
        "    total = num_one + num_two\n",
        "    return total\n",
        "\n",
        "result = add_two_numbers()\n",
        "print(result)\n",
        "\n",
        "print(add_two_numbers() + 10)"
      ]
    },
    {
      "cell_type": "code",
      "execution_count": null,
      "metadata": {},
      "outputs": [],
      "source": [
        "def is_even(n):\n",
        "    if n % 2 == 0:\n",
        "        print('even')\n",
        "        return True    # return stops further execution of the function, similar to break \n",
        "    print('tek')\n",
        "    return False\n",
        "print(is_even(10)) # True\n",
        "print(is_even(7)) # False"
      ]
    },
    {
      "cell_type": "code",
      "execution_count": null,
      "metadata": {},
      "outputs": [],
      "source": [
        "def convert_num_to_str(num1, num2): #multiple parameters\n",
        "    return str(num1), str(num2) #multiple outputs\n",
        "\n",
        "\n",
        "print(convert_num_to_str(12, 13))\n",
        "r1, r2 = convert_num_to_str(12, 13)\n",
        "print(r1, r2)"
      ]
    },
    {
      "cell_type": "code",
      "execution_count": null,
      "metadata": {
        "colab": {
          "base_uri": "https://localhost:8080/"
        },
        "id": "KJ7zrywlglG8",
        "outputId": "1f5b7235-5d41-4c34-8833-5617c94094d3"
      },
      "outputs": [],
      "source": [
        "def isInteger(value):\n",
        "    if (type(value)) == int:\n",
        "        return True\n",
        "    else:\n",
        "        return False\n",
        "print(isInteger(5), isInteger('7'), isInteger(2.0))"
      ]
    },
    {
      "cell_type": "code",
      "execution_count": null,
      "metadata": {},
      "outputs": [],
      "source": [
        "def calculate_age (current_year, birth_year):\n",
        "    age = current_year - birth_year\n",
        "    return age\n",
        "\n",
        "print(calculate_age(2021, 1819))\n",
        "print(calculate_age(2021, birth_year = 1819))\n",
        "print(calculate_age(current_year = 2021, birth_year = 1819))\n",
        "print(calculate_age(current_year = 2021, 1819)) # hatalı!!!"
      ]
    },
    {
      "cell_type": "markdown",
      "metadata": {},
      "source": [
        "### Fonksiyonlarda Varsayılan Değerle Parametreleri Tanımlama"
      ]
    },
    {
      "cell_type": "code",
      "execution_count": null,
      "metadata": {},
      "outputs": [],
      "source": [
        "def calculate_age (birth_year, current_year = 2023):\n",
        "    age = current_year - birth_year\n",
        "    return age\n",
        "\n",
        "print('Age: ', calculate_age(2000))"
      ]
    },
    {
      "cell_type": "markdown",
      "metadata": {},
      "source": [
        "### Fonksiyonlarda Varsayılan ve İsteğe Bağlı Parametre Sayısı"
      ]
    },
    {
      "cell_type": "code",
      "execution_count": null,
      "metadata": {},
      "outputs": [],
      "source": [
        "def sum_all_nums(*nums):\n",
        "    total = 0\n",
        "    for num in nums:\n",
        "        total += num     # same as total = total + num \n",
        "    return total\n",
        "print(sum_all_nums(2, 3, 5))"
      ]
    },
    {
      "cell_type": "code",
      "execution_count": null,
      "metadata": {},
      "outputs": [],
      "source": [
        "def generate_groups(team,*args):\n",
        "    print(team)\n",
        "    for i in args:\n",
        "        print(i)\n",
        "print(generate_groups('Team-1','Feyzullah','Furkan','Yunus'))"
      ]
    },
    {
      "cell_type": "markdown",
      "metadata": {},
      "source": [
        "### Bir Fonksiyona Parametre olarak Fonksiyon Verme"
      ]
    },
    {
      "cell_type": "code",
      "execution_count": null,
      "metadata": {},
      "outputs": [],
      "source": [
        "def square_number(n):\n",
        "    return n * n\n",
        "\n",
        "def do_something(f, x):\n",
        "    return f(x)\n",
        "\n",
        "print(do_something(square_number, 3)) "
      ]
    },
    {
      "cell_type": "markdown",
      "metadata": {},
      "source": [
        "### Özyinelemeli (Recursive) Fonksiyon"
      ]
    },
    {
      "cell_type": "code",
      "execution_count": null,
      "metadata": {},
      "outputs": [],
      "source": [
        "def factorial(num):\n",
        "    if num == 1: #durma kriteri \n",
        "        return 1\n",
        "    return factorial(num-1) * num #tekrar çağırma\n",
        "\n",
        "factorial(5)"
      ]
    },
    {
      "cell_type": "markdown",
      "metadata": {},
      "source": [
        "# Örnek Porblem\n",
        "\n",
        "n'inci sayıya kadar tek satır halinde Fibonacci sayılarını yazdıran bir fonksiyon yazın.\n",
        "\n",
        "7'li fibonacci dizisi: 1 1 2 3 5 8 13"
      ]
    },
    {
      "cell_type": "code",
      "execution_count": null,
      "metadata": {
        "colab": {
          "base_uri": "https://localhost:8080/"
        },
        "id": "asmzoOVhi-vJ",
        "outputId": "809f80ba-cec1-4baf-f717-69cc9937f86d"
      },
      "outputs": [],
      "source": [
        "\n",
        "def print_fibonacci(n):\n",
        "    num1 = 1\n",
        "    fibonacci_nums = str(num1)\n",
        "    \n",
        "    if n > 1:\n",
        "        num2 = 1\n",
        "        fibonacci_nums += \" \" + str(num2)\n",
        "        for i in range(n-2):\n",
        "            num2 = num1 + num2   # get new add num\n",
        "            num1 = num2 - num1 # attach add_num to start_num\n",
        "            fibonacci_nums += \" \" + str(num2)\n",
        "    \n",
        "\n",
        "    print(fibonacci_nums)\n",
        "\n",
        "print_fibonacci(4)"
      ]
    }
  ],
  "metadata": {
    "colab": {
      "provenance": []
    },
    "kernelspec": {
      "display_name": "Python 3",
      "name": "python3"
    },
    "language_info": {
      "codemirror_mode": {
        "name": "ipython",
        "version": 3
      },
      "file_extension": ".py",
      "mimetype": "text/x-python",
      "name": "python",
      "nbconvert_exporter": "python",
      "pygments_lexer": "ipython3",
      "version": "3.11.4"
    }
  },
  "nbformat": 4,
  "nbformat_minor": 0
}
