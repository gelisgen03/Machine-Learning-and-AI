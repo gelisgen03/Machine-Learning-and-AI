{
 "cells": [
  {
   "cell_type": "markdown",
   "metadata": {
    "collapsed": true
   },
   "source": [
    "### Exercise 1\n",
    "\n",
    "** Create a Sphere class that accepts a radius upon instantiation and has a volume and surface area method. **"
   ]
  },
  {
   "cell_type": "code",
   "execution_count": null,
   "metadata": {},
   "outputs": [],
   "source": []
  },
  {
   "cell_type": "code",
   "execution_count": 6,
   "metadata": {
    "collapsed": true
   },
   "outputs": [],
   "source": [
    "s = Sphere(1)"
   ]
  },
  {
   "cell_type": "code",
   "execution_count": 7,
   "metadata": {},
   "outputs": [
    {
     "data": {
      "text/plain": [
       "12.56"
      ]
     },
     "execution_count": 7,
     "metadata": {},
     "output_type": "execute_result"
    }
   ],
   "source": [
    "s.surface_area()"
   ]
  },
  {
   "cell_type": "code",
   "execution_count": 8,
   "metadata": {},
   "outputs": [
    {
     "data": {
      "text/plain": [
       "4.1866666666666665"
      ]
     },
     "execution_count": 8,
     "metadata": {},
     "output_type": "execute_result"
    }
   ],
   "source": [
    "s.volume()"
   ]
  },
  {
   "cell_type": "markdown",
   "metadata": {},
   "source": [
    "## Exercise 2\n",
    "\n",
    "**For this exercise we will have several steps.**\n",
    "1. Create a class called GuessingGame.\n",
    "2. The class doesn't need any user provided arguments for instantiation.\n",
    "3. In the __init__ method have the class set a  self.rand_choice attribute to a random integer between 0-10 (use import random)\n",
    "4. Now create a method in the class called reset_random that will reset this self.rand_choice attribute\n",
    "5. Now create a method called guess that uses the input() function to accept a user guess for the random number. This method should print out a statement indicating whether or not the user guess was correct\n",
    "Add logic that will report back to the user to guess higher or lower next time they call the guess() method.\n",
    "\n",
    "**Check out the example code below for what the game should look like:**"
   ]
  },
  {
   "cell_type": "markdown",
   "metadata": {},
   "source": []
  },
  {
   "cell_type": "code",
   "execution_count": 23,
   "metadata": {
    "collapsed": true
   },
   "outputs": [],
   "source": [
    "g = GuessingGame()"
   ]
  },
  {
   "cell_type": "code",
   "execution_count": 24,
   "metadata": {},
   "outputs": [
    {
     "data": {
      "text/plain": [
       "6"
      ]
     },
     "execution_count": 24,
     "metadata": {},
     "output_type": "execute_result"
    }
   ],
   "source": [
    "g.rand_choice"
   ]
  },
  {
   "cell_type": "code",
   "execution_count": 25,
   "metadata": {},
   "outputs": [
    {
     "name": "stdout",
     "output_type": "stream",
     "text": [
      "Resetting Random Choice\n"
     ]
    }
   ],
   "source": [
    "g.reset_random()"
   ]
  },
  {
   "cell_type": "code",
   "execution_count": 26,
   "metadata": {},
   "outputs": [
    {
     "name": "stdout",
     "output_type": "stream",
     "text": [
      "Please input your guess (0-10): 3\n",
      "Sorry you didn't guess correctly!\n",
      "Guess Lower!\n",
      "Call the guess() method again to try again.\n"
     ]
    }
   ],
   "source": [
    "g.guess()"
   ]
  },
  {
   "cell_type": "code",
   "execution_count": 27,
   "metadata": {},
   "outputs": [
    {
     "name": "stdout",
     "output_type": "stream",
     "text": [
      "Please input your guess (0-10): 1\n",
      "Correct Guess!\n"
     ]
    }
   ],
   "source": [
    "g.guess()"
   ]
  },
  {
   "cell_type": "markdown",
   "metadata": {},
   "source": [
    "# Exercise 3"
   ]
  },
  {
   "cell_type": "markdown",
   "metadata": {},
   "source": [
    "Problem Description: Fraction Class\n",
    "\n",
    "You are tasked with designing a Python class called Fraction that represents fractions and provides various methods to perform basic arithmetic operations on fractions. The Fraction class should support initialization with a numerator and an optional denominator, which defaults to 1 if not provided. The class should ensure that fractions are always in their reduced form (i.e., with the greatest common divisor of numerator and denominator removed).\n",
    "\n",
    "The Fraction class should have the following attributes and methods:\n",
    "\n",
    "Attributes:\n",
    "\n",
    "nr: An integer representing the numerator of the fraction.\n",
    "<br>\n",
    "dr: An integer representing the denominator of the fraction.\n",
    "Methods:\n",
    "\n",
    "__init__(self, nr, dr=1): Constructor method that initializes a Fraction object with the given numerator and denominator. If the denominator is negative, it should be converted to a positive value, and the sign of the fraction should be adjusted accordingly. The fraction should then be reduced to its simplest form using the _reduce() method.\n",
    "\n",
    "show(self): A method that prints the fraction in the format \"numerator/denominator\".\n",
    "\n",
    "multiply(self, other): A method that multiplies the current fraction with another fraction or an integer. If the input is an integer, it will be converted into a Fraction object. The resulting fraction should be reduced to its simplest form.\n",
    "\n",
    "add(self, other): A method that adds the current fraction to another fraction or an integer. If the input is an integer, it will be converted into a Fraction object. The resulting fraction should be reduced to its simplest form.\n",
    "\n",
    "_reduce(self): A private method that reduces the fraction to its simplest form by dividing both the numerator and denominator by their greatest common divisor (GCD). The GCD calculation is performed by the static method hcf(x, y).\n",
    "\n",
    "hcf(x, y): A method that calculates the highest common factor (HCF) or greatest common divisor (GCD) of two integers x and y. The HCF is used to reduce the fractions to their simplest form.\n",
    "\n",
    "Note: The Fraction class should be designed with error handling in mind. It should handle invalid inputs, such as non-integer values for the numerator and denominator, to ensure the correct behavior and stability of the class."
   ]
  },
  {
   "cell_type": "code",
   "execution_count": null,
   "metadata": {},
   "outputs": [],
   "source": []
  },
  {
   "cell_type": "code",
   "execution_count": 2,
   "metadata": {},
   "outputs": [
    {
     "name": "stdout",
     "output_type": "stream",
     "text": [
      "1/6\n",
      "-1/6\n",
      "-1/36\n",
      "0/36\n",
      "31/6\n",
      "5/6\n"
     ]
    }
   ],
   "source": [
    "# Example usage\n",
    "       \n",
    "f1 = Fraction(6,36)\n",
    "f1.show()\n",
    "f2 = Fraction(2,-12)\n",
    "f2.show()\n",
    "f3 = f1.multiply(f2)\n",
    "f3.show()\n",
    "f3 = f1.add(f2)\n",
    "f3.show()\n",
    "f3 = f1.add(5) \n",
    "f3.show()\n",
    "f3 = f1.multiply(5) \n",
    "f3.show()"
   ]
  }
 ],
 "metadata": {
  "anaconda-cloud": {},
  "kernelspec": {
   "display_name": "Python 3",
   "language": "python",
   "name": "python3"
  },
  "language_info": {
   "codemirror_mode": {
    "name": "ipython",
    "version": 3
   },
   "file_extension": ".py",
   "mimetype": "text/x-python",
   "name": "python",
   "nbconvert_exporter": "python",
   "pygments_lexer": "ipython3",
   "version": "3.10.9"
  }
 },
 "nbformat": 4,
 "nbformat_minor": 2
}
