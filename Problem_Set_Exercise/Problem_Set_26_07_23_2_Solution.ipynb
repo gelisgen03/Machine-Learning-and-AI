{
  "nbformat": 4,
  "nbformat_minor": 0,
  "metadata": {
    "colab": {
      "provenance": []
    },
    "kernelspec": {
      "name": "python3",
      "display_name": "Python 3"
    },
    "language_info": {
      "name": "python"
    }
  },
  "cells": [
    {
      "cell_type": "markdown",
      "source": [
        "# Problem: Matris Manipülasyonu\n",
        "\n",
        "Size her ikisi de 2B NumPy dizileri olarak temsil edilen A ve B olmak üzere iki kare matris verilir. Göreviniz, aşağıdaki matris işlemlerini gerçekleştirmektir:\n",
        "\n",
        "A ve B matrislerinin eleman bazında toplamını hesaplayın ve sonucu yeni bir C matrisinde saklayın.\n",
        "A ve B'nin matris çarpımını hesaplayın ve sonucu yeni bir matris olan D'de saklayın.\n",
        "A matrisinin determinantını bulun.\n",
        "B matrisinin devriğini alın.\n",
        "A ve B matrislerini girdi olarak alan ve C, D matrislerini, A'nın determinantını ve B'nin devrik matrisini döndüren bir Python işlevi yazın.\n",
        "\n",
        "Fonksiyonunuzun yapısı şu şekilde olmalıdır."
      ],
      "metadata": {
        "id": "W2C5jCs3Y3A_"
      }
    },
    {
      "cell_type": "code",
      "execution_count": null,
      "metadata": {
        "id": "91rjO6jtY0V7"
      },
      "outputs": [],
      "source": [
        "import numpy as np\n",
        "\n",
        "def matrix_operations(A, B):\n",
        "    # Your code here\n",
        "\n",
        "    return C, D, determinant_A, transposed_B"
      ]
    },
    {
      "cell_type": "markdown",
      "source": [
        "# Not:\n",
        "\n",
        "Matris çarpımını hesaplamak için, NumPy'de matris çarpımı için np.dot() veya @\n",
        "operatörünü kullanabilirsiniz.\n",
        "\n",
        "A matrisinin determinantını hesaplamak için np.linalg.det() yöntemini kullanabilirsiniz.\n",
        "\n",
        "B matrisini transpoze etmek için np.transpose() işlevini veya .T özniteliğini kullanabilirsiniz."
      ],
      "metadata": {
        "id": "UbeVvHAIaIi8"
      }
    },
    {
      "cell_type": "code",
      "source": [
        "# @title\n",
        "import numpy as np\n",
        "\n",
        "def matrix_operations(A, B):\n",
        "    # Calculate the element-wise sum of matrices A and B\n",
        "    C = A + B\n",
        "\n",
        "    # Calculate the matrix product of A and B\n",
        "    D = np.dot(A, B)\n",
        "    # Alternatively, you can use the @ operator for matrix multiplication:\n",
        "    # D = A @ B\n",
        "\n",
        "    # Find the determinant of matrix A\n",
        "    determinant_A = np.linalg.det(A)\n",
        "\n",
        "    # Transpose matrix B\n",
        "    transposed_B = np.transpose(B)\n",
        "    # Alternatively, you can use the .T attribute:\n",
        "    # transposed_B = B.T\n",
        "\n",
        "    return C, D, determinant_A, transposed_B"
      ],
      "metadata": {
        "id": "Dwam9ZsZZ8Nm"
      },
      "execution_count": null,
      "outputs": []
    },
    {
      "cell_type": "markdown",
      "source": [
        "# Matris Çarpımı\n",
        "\n",
        "Basitçe iki matrisi çarpan bir kod yazınız.\n",
        "\n",
        "Pythonda bu özellik otomatik olarak tanımlı olduğu için özelliği kullanmak yerine matrisleri 1. matrisin 1. satırı ile 2. matrisin kolonlarını tek tek çarpıp yeni matrise yazacak şekilde algoritmanızı geliştiriniz\n",
        "\n",
        "Dikkat etmeniz gereken bir diğer konu ise iki matris çarpılamaz durumda ise durumu göz önünde bulundurarak bir hata mesajı yayınlamanız gerektiğidir."
      ],
      "metadata": {
        "id": "e58pv0JF-xxe"
      }
    },
    {
      "cell_type": "code",
      "source": [
        "import numpy as np\n",
        "\n",
        "# Matrix multiplier\n",
        "def multiply_matrices(matA, matB):\n",
        "    sizeA = np.shape(matA)\n",
        "    sizeB = np.shape(matB) # boyutları hesapla\n",
        "    # sonuc boyutu olucak kadar sıfırlarla dolu bir matris olustur\n",
        "    result = np.zeros((sizeA[0], sizeB[1]), dtype=np.float64)\n",
        "\n",
        "    # 1. matrisin sutunu ve 2. matrisin satırı esit olmazsa hata mesajı bastır.\n",
        "    if (sizeA[1] != sizeB[0]):\n",
        "        print(\"Matrix sizes are improper for multiplication\")\n",
        "        return\n",
        "\n",
        "    # Elementer matris carpimi\n",
        "    for indexA in range(sizeA[0]):\n",
        "        for indexB in range(sizeB[1]):\n",
        "            sumValue = sum(matA[indexA] * matB[:, indexB])\n",
        "            result[indexA][indexB] = sumValue\n",
        "    return result"
      ],
      "metadata": {
        "id": "vzjnm1Y8jPjL"
      },
      "execution_count": null,
      "outputs": []
    },
    {
      "cell_type": "code",
      "source": [
        "matA = np.random.randint(0, 10, size=[5,3])\n",
        "matB = np.random.randint(0, 10, size=[3,4])\n",
        "multiply_matrices(matA, matB)"
      ],
      "metadata": {
        "colab": {
          "base_uri": "https://localhost:8080/"
        },
        "id": "W6vqyI_aj1DN",
        "outputId": "6c9b4b45-6e45-4d27-9ec1-3f4936d388e0"
      },
      "execution_count": null,
      "outputs": [
        {
          "output_type": "execute_result",
          "data": {
            "text/plain": [
              "array([[116.,  81.,  42.,  59.],\n",
              "       [104.,  75.,  43.,  57.],\n",
              "       [ 74.,  57.,  31.,  52.],\n",
              "       [ 36.,  30.,  16.,  32.],\n",
              "       [ 84.,  63.,  36.,  53.]])"
            ]
          },
          "metadata": {},
          "execution_count": 3
        }
      ]
    },
    {
      "cell_type": "code",
      "source": [
        "np.dot(matA, matB).astype(float)"
      ],
      "metadata": {
        "colab": {
          "base_uri": "https://localhost:8080/"
        },
        "id": "0BXEeJn6ni1x",
        "outputId": "5f249ed8-c776-4a66-8d94-7b5e9fc0dc03"
      },
      "execution_count": null,
      "outputs": [
        {
          "output_type": "execute_result",
          "data": {
            "text/plain": [
              "array([[116.,  81.,  42.,  59.],\n",
              "       [104.,  75.,  43.,  57.],\n",
              "       [ 74.,  57.,  31.,  52.],\n",
              "       [ 36.,  30.,  16.,  32.],\n",
              "       [ 84.,  63.,  36.,  53.]])"
            ]
          },
          "metadata": {},
          "execution_count": 5
        }
      ]
    },
    {
      "cell_type": "code",
      "source": [
        "matA = np.random.randint(0, 10, size=[3,5])\n",
        "matB = np.random.randint(0, 10, size=[7,4])\n",
        "multiply_matrices(matA, matB)"
      ],
      "metadata": {
        "colab": {
          "base_uri": "https://localhost:8080/"
        },
        "id": "UotRYPh8oWn5",
        "outputId": "2ae34ced-c287-4e31-ddb7-b538213b7e12"
      },
      "execution_count": null,
      "outputs": [
        {
          "output_type": "stream",
          "name": "stdout",
          "text": [
            "Matrix sizes are improper for multiplication\n"
          ]
        }
      ]
    },
    {
      "cell_type": "markdown",
      "source": [
        "### NUMPY SIFIR VE BİR MATRİSLERİ\n",
        "\n",
        "NumPy'ın sunmuş olduğu en büyük özelliklerden birisi de matrisleri kolayca tanımlama ve iç içe yazabilme özelliğidir. Özellikle sadece sıfır veya sadece birlerden oluşan matrisleri istenilen boyutlarda kolayca oluşturabilirsiniz:\n",
        "\n",
        "--> Sıfır matrisi: numpy.zeros((size), dtype=type)\n",
        "\n",
        "--> Bir matrisi: numpy.ones((size), dtype=type)\n",
        "\n",
        "# PROBLEM: KARE MATRİS İSKELETİ OLUŞTURMA\n",
        "\n",
        "Elimizde bulunan numpy imkanlarını da kullanarak dış katmanı her seferinde birlerden oluşan ve katmanlar içe doğru ilerledikçe bir tane sıfır bir tane bir katmanı olacak şekilde ilerleyen bir fonksiyon yazınız.\n",
        "\n",
        "Probleme yaklaşma kolaylığı bakımından birkaç ipucu verilecek olursa:\n",
        "\n",
        "--> Öncelikle istenilen boyutlarda iç içe kaç tane sıfır ve bir katmanı sığacağını bulunuz. Her katman 1 birim kalınlıkta olacağından sağ ve soldan 2 üst ve alttan 2 boyutluk matris alanı kaplayacaktır.\n",
        "\n",
        "--> Her seferinde dış katman birlerden oluşacağı için bir matrislerine öncelik veriniz.\n",
        "\n",
        "--> En nihayetinde en geniş 1 matrisinin içine en geniş 0 matrisini uygun şekilde yerleştiriniz. Ardından en genişten bir dar olan 1 matrisini en geniş sıfır matrisinin içine yerleştiriniz ve bu işlemi bir döngü olarak tekrar ediniz.\n",
        "\n",
        "## BODY FONKSİYONU\n",
        "\n",
        "--> def createAvailableSkeleton(size) yapısında bulunmalıdır.\n",
        "\n",
        "--> döndürdüğü değer iç içe 1 ve 0 barındıran tek bir arraydir"
      ],
      "metadata": {
        "id": "ckrY38aJoZhV"
      }
    },
    {
      "cell_type": "code",
      "metadata": {
        "id": "8A9z53C3K4IC"
      },
      "source": [
        "def createAvailableSkeleton(size):\n",
        "    outers, inners = [], []  # 1, 0\n",
        "    oIndexes = np.arange(0, size, 4)  # 0, 4, 8, 16\n",
        "    iIndexes = np.arange(2, size, 4)  # 2, 6, 10, 14, 18\n",
        "\n",
        "    # 1lerden olusan matrisleri doldurma\n",
        "    for o in oIndexes:\n",
        "        addedArray = np.ones((size-o, size-o), dtype=int)\n",
        "        outers.append(addedArray)\n",
        "    # 0lardan olusan matrisleri doldurma\n",
        "    for i in iIndexes:\n",
        "        addedArray = np.zeros((size-i, size-i), dtype=int)\n",
        "        inners.append(addedArray)\n",
        "    totalLen = len(outers) + len(inners)\n",
        "\n",
        "    # donus arrayini 1lerden olusan en buyuk matrise esitledik\n",
        "    returnArray = outers[0]\n",
        "    for k in range(1, totalLen):\n",
        "        # eger dongu sayısı tek ise o zaman 1lerin içine 0 yerlestiriyoruz\n",
        "        if k % 2 == 1:\n",
        "            returnArray[k:size-k, k:size-k] = inners[int((k-1)/2)]\n",
        "        # eger dongu sayısı cift ise o zaman 0larin içine 1 yerlestiriyoruz\n",
        "        else:\n",
        "            returnArray[k:size-k, k:size-k] = outers[int((k)/2)]\n",
        "    return returnArray"
      ],
      "execution_count": null,
      "outputs": []
    },
    {
      "cell_type": "code",
      "source": [
        "# SAMPLE OUT\n",
        "createAvailableSkeleton(10)"
      ],
      "metadata": {
        "colab": {
          "base_uri": "https://localhost:8080/"
        },
        "id": "BDeyjuL3sxwu",
        "outputId": "a171bb3f-0524-4ec6-ff17-e5c8e1ca4c29"
      },
      "execution_count": null,
      "outputs": [
        {
          "output_type": "execute_result",
          "data": {
            "text/plain": [
              "array([[1, 1, 1, 1, 1, 1, 1, 1, 1, 1],\n",
              "       [1, 0, 0, 0, 0, 0, 0, 0, 0, 1],\n",
              "       [1, 0, 1, 1, 1, 1, 1, 1, 0, 1],\n",
              "       [1, 0, 1, 0, 0, 0, 0, 1, 0, 1],\n",
              "       [1, 0, 1, 0, 1, 1, 0, 1, 0, 1],\n",
              "       [1, 0, 1, 0, 1, 1, 0, 1, 0, 1],\n",
              "       [1, 0, 1, 0, 0, 0, 0, 1, 0, 1],\n",
              "       [1, 0, 1, 1, 1, 1, 1, 1, 0, 1],\n",
              "       [1, 0, 0, 0, 0, 0, 0, 0, 0, 1],\n",
              "       [1, 1, 1, 1, 1, 1, 1, 1, 1, 1]])"
            ]
          },
          "metadata": {},
          "execution_count": 12
        }
      ]
    },
    {
      "cell_type": "code",
      "source": [
        "createAvailableSkeleton(20)"
      ],
      "metadata": {
        "colab": {
          "base_uri": "https://localhost:8080/"
        },
        "id": "yhdz1uofs1wN",
        "outputId": "75308f15-40e7-4f64-ab3e-0f96569b72fe"
      },
      "execution_count": null,
      "outputs": [
        {
          "output_type": "execute_result",
          "data": {
            "text/plain": [
              "array([[1, 1, 1, 1, 1, 1, 1, 1, 1, 1, 1, 1, 1, 1, 1, 1, 1, 1, 1, 1],\n",
              "       [1, 0, 0, 0, 0, 0, 0, 0, 0, 0, 0, 0, 0, 0, 0, 0, 0, 0, 0, 1],\n",
              "       [1, 0, 1, 1, 1, 1, 1, 1, 1, 1, 1, 1, 1, 1, 1, 1, 1, 1, 0, 1],\n",
              "       [1, 0, 1, 0, 0, 0, 0, 0, 0, 0, 0, 0, 0, 0, 0, 0, 0, 1, 0, 1],\n",
              "       [1, 0, 1, 0, 1, 1, 1, 1, 1, 1, 1, 1, 1, 1, 1, 1, 0, 1, 0, 1],\n",
              "       [1, 0, 1, 0, 1, 0, 0, 0, 0, 0, 0, 0, 0, 0, 0, 1, 0, 1, 0, 1],\n",
              "       [1, 0, 1, 0, 1, 0, 1, 1, 1, 1, 1, 1, 1, 1, 0, 1, 0, 1, 0, 1],\n",
              "       [1, 0, 1, 0, 1, 0, 1, 0, 0, 0, 0, 0, 0, 1, 0, 1, 0, 1, 0, 1],\n",
              "       [1, 0, 1, 0, 1, 0, 1, 0, 1, 1, 1, 1, 0, 1, 0, 1, 0, 1, 0, 1],\n",
              "       [1, 0, 1, 0, 1, 0, 1, 0, 1, 0, 0, 1, 0, 1, 0, 1, 0, 1, 0, 1],\n",
              "       [1, 0, 1, 0, 1, 0, 1, 0, 1, 0, 0, 1, 0, 1, 0, 1, 0, 1, 0, 1],\n",
              "       [1, 0, 1, 0, 1, 0, 1, 0, 1, 1, 1, 1, 0, 1, 0, 1, 0, 1, 0, 1],\n",
              "       [1, 0, 1, 0, 1, 0, 1, 0, 0, 0, 0, 0, 0, 1, 0, 1, 0, 1, 0, 1],\n",
              "       [1, 0, 1, 0, 1, 0, 1, 1, 1, 1, 1, 1, 1, 1, 0, 1, 0, 1, 0, 1],\n",
              "       [1, 0, 1, 0, 1, 0, 0, 0, 0, 0, 0, 0, 0, 0, 0, 1, 0, 1, 0, 1],\n",
              "       [1, 0, 1, 0, 1, 1, 1, 1, 1, 1, 1, 1, 1, 1, 1, 1, 0, 1, 0, 1],\n",
              "       [1, 0, 1, 0, 0, 0, 0, 0, 0, 0, 0, 0, 0, 0, 0, 0, 0, 1, 0, 1],\n",
              "       [1, 0, 1, 1, 1, 1, 1, 1, 1, 1, 1, 1, 1, 1, 1, 1, 1, 1, 0, 1],\n",
              "       [1, 0, 0, 0, 0, 0, 0, 0, 0, 0, 0, 0, 0, 0, 0, 0, 0, 0, 0, 1],\n",
              "       [1, 1, 1, 1, 1, 1, 1, 1, 1, 1, 1, 1, 1, 1, 1, 1, 1, 1, 1, 1]])"
            ]
          },
          "metadata": {},
          "execution_count": 13
        }
      ]
    },
    {
      "cell_type": "markdown",
      "source": [
        "\n",
        "## PLOT FONKSİYONU\n",
        "\n",
        "--> Derste göreceğimiz görselleştirme tekniklerinden birisi olan matplotlib.imshow() tekniği kullanılarak bir plot fonksiyonu yazılmıştır.\n",
        "\n",
        "--> plotSkeleton() fonksiyonu içerisine verilen skeleton parametresi yazmış olduğunuz fonksiyonun kendisi olacaktır. inner_size parametresi de fonksiyonunuzun aldığı size parametresidir. Bu şekilde fonksiyon çıktınızı görselleştirebilirsiniz."
      ],
      "metadata": {
        "id": "LCtANUrnsgMe"
      }
    },
    {
      "cell_type": "code",
      "source": [
        "import matplotlib.pyplot as plt\n",
        "\n",
        "def plotSkeleton(skeleton, inner_size=20):\n",
        "    skltn = skeleton(inner_size)\n",
        "    plt.imshow(skltn, cmap='Greys')\n",
        "    plt.gcf().set_size_inches(10, 10)"
      ],
      "metadata": {
        "id": "o2mD2Qf-ohk6"
      },
      "execution_count": null,
      "outputs": []
    },
    {
      "cell_type": "code",
      "source": [
        "plotSkeleton(createAvailableSkeleton, 12)"
      ],
      "metadata": {
        "colab": {
          "base_uri": "https://localhost:8080/",
          "height": 830
        },
        "id": "PHdXeBlXoYQS",
        "outputId": "45ca3baa-d928-43fc-f5c7-49827bf0466e"
      },
      "execution_count": null,
      "outputs": [
        {
          "output_type": "display_data",
          "data": {
            "text/plain": [
              "<Figure size 1000x1000 with 1 Axes>"
            ],
            "image/png": "[encoded data removed]"
          },
          "metadata": {}
        }
      ]
    },
    {
      "cell_type": "code",
      "source": [
        "plotSkeleton(createAvailableSkeleton, 100)"
      ],
      "metadata": {
        "colab": {
          "base_uri": "https://localhost:8080/",
          "height": 832
        },
        "id": "TejN-6WvtGJN",
        "outputId": "932e0e42-7650-4c8d-af6b-25f2b9fcb035"
      },
      "execution_count": null,
      "outputs": [
        {
          "output_type": "display_data",
          "data": {
            "text/plain": [
              "<Figure size 1000x1000 with 1 Axes>"
            ],
            "image/png": "[encoded data removed]"
          },
          "metadata": {}
        }
      ]
    }
  ]
}