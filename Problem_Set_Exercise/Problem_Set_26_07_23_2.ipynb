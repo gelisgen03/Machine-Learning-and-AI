{
  "nbformat": 4,
  "nbformat_minor": 0,
  "metadata": {
    "colab": {
      "provenance": []
    },
    "kernelspec": {
      "name": "python3",
      "display_name": "Python 3"
    },
    "language_info": {
      "name": "python"
    }
  },
  "cells": [
    {
      "cell_type": "markdown",
      "source": [
        "# Problem: Matris Manipülasyonu\n",
        "\n",
        "Size her ikisi de 2B NumPy dizileri olarak temsil edilen A ve B olmak üzere iki kare matris verilir. Göreviniz, aşağıdaki matris işlemlerini gerçekleştirmektir:\n",
        "\n",
        "A ve B matrislerinin eleman bazında toplamını hesaplayın ve sonucu yeni bir C matrisinde saklayın.\n",
        "A ve B'nin matris çarpımını hesaplayın ve sonucu yeni bir matris olan D'de saklayın.\n",
        "A matrisinin determinantını bulun.\n",
        "B matrisinin devriğini alın.\n",
        "A ve B matrislerini girdi olarak alan ve C, D matrislerini, A'nın determinantını ve B'nin devrik matrisini döndüren bir Python işlevi yazın.\n",
        "\n",
        "Fonksiyonunuzun yapısı şu şekilde olmalıdır.\n",
        "\n",
        "def matrix_operations(A, B)"
      ],
      "metadata": {
        "id": "W2C5jCs3Y3A_"
      }
    },
    {
      "cell_type": "markdown",
      "source": [
        "# Not:\n",
        "\n",
        "Matris çarpımını hesaplamak için, NumPy'de matris çarpımı için np.dot() veya @\n",
        "operatörünü kullanabilirsiniz.\n",
        "\n",
        "A matrisinin determinantını hesaplamak için np.linalg.det() yöntemini kullanabilirsiniz.\n",
        "\n",
        "B matrisini transpoze etmek için np.transpose() işlevini veya .T özniteliğini kullanabilirsiniz."
      ],
      "metadata": {
        "id": "UbeVvHAIaIi8"
      }
    },
    {
      "cell_type": "code",
      "source": [
        "# @title\n",
        "import numpy as np\n",
        "\n",
        "def matrix_operations(A, B):\n",
        "    # Buraya kodunuzu yazın\n",
        "\n",
        "    return C, D, determinant_A, transposed_B"
      ],
      "metadata": {
        "id": "Dwam9ZsZZ8Nm"
      },
      "execution_count": null,
      "outputs": []
    },
    {
      "cell_type": "markdown",
      "source": [
        "# Matris Çarpımı\n",
        "\n",
        "Basitçe iki matrisi çarpan bir kod yazınız.\n",
        "\n",
        "Pythonda bu özellik otomatik olarak tanımlı olduğu için özelliği kullanmak yerine matrisleri 1. matrisin 1. satırı ile 2. matrisin kolonlarını tek tek çarpıp yeni matrise yazacak şekilde algoritmanızı geliştiriniz\n",
        "\n",
        "Dikkat etmeniz gereken bir diğer konu ise iki matris çarpılamaz durumda ise durumu göz önünde bulundurarak bir hata mesajı yayınlamanız gerektiğidir."
      ],
      "metadata": {
        "id": "e58pv0JF-xxe"
      }
    },
    {
      "cell_type": "code",
      "source": [
        "import numpy as np\n",
        "\n",
        "def multiply_matrices(matA, matB):\n",
        "    # buraya kodunuzu yazın\n",
        "    return result"
      ],
      "metadata": {
        "id": "vzjnm1Y8jPjL"
      },
      "execution_count": null,
      "outputs": []
    },
    {
      "cell_type": "code",
      "source": [
        "matA = np.random.randint(0, 10, size=[5,3])\n",
        "matB = np.random.randint(0, 10, size=[3,4])\n",
        "multiply_matrices(matA, matB)"
      ],
      "metadata": {
        "colab": {
          "base_uri": "https://localhost:8080/"
        },
        "id": "W6vqyI_aj1DN",
        "outputId": "b5161982-44ca-4818-f06c-f792151a857d"
      },
      "execution_count": null,
      "outputs": [
        {
          "output_type": "execute_result",
          "data": {
            "text/plain": [
              "array([[36., 54., 51.,  9.],\n",
              "       [39., 48., 28., 18.],\n",
              "       [49., 76., 56., 70.],\n",
              "       [69., 99., 79., 42.],\n",
              "       [47., 65., 51., 20.]])"
            ]
          },
          "metadata": {},
          "execution_count": 20
        }
      ]
    },
    {
      "cell_type": "code",
      "source": [
        "np.dot(matA, matB)"
      ],
      "metadata": {
        "colab": {
          "base_uri": "https://localhost:8080/"
        },
        "id": "0BXEeJn6ni1x",
        "outputId": "d75cd68c-e2eb-40da-9d5c-9e903f4cd850"
      },
      "execution_count": null,
      "outputs": [
        {
          "output_type": "execute_result",
          "data": {
            "text/plain": [
              "array([[36, 54, 51,  9],\n",
              "       [39, 48, 28, 18],\n",
              "       [49, 76, 56, 70],\n",
              "       [69, 99, 79, 42],\n",
              "       [47, 65, 51, 20]])"
            ]
          },
          "metadata": {},
          "execution_count": 21
        }
      ]
    },
    {
      "cell_type": "code",
      "source": [
        "matA = np.random.randint(0, 10, size=[3,5])\n",
        "matB = np.random.randint(0, 10, size=[3,4])\n",
        "multiply_matrices(matA, matB)"
      ],
      "metadata": {
        "colab": {
          "base_uri": "https://localhost:8080/"
        },
        "id": "UotRYPh8oWn5",
        "outputId": "7244337d-4f36-4205-8179-f7314b1856b4"
      },
      "execution_count": null,
      "outputs": [
        {
          "output_type": "stream",
          "name": "stdout",
          "text": [
            "Matrix sizes are improper for multiplication\n"
          ]
        }
      ]
    },
    {
      "cell_type": "markdown",
      "source": [
        "### NUMPY SIFIR VE BİR MATRİSLERİ\n",
        "\n",
        "NumPy'ın sunmuş olduğu en büyük özelliklerden birisi de matrisleri kolayca tanımlama ve iç içe yazabilme özelliğidir. Özellikle sadece sıfır veya sadece birlerden oluşan matrisleri istenilen boyutlarda kolayca oluşturabilirsiniz:\n",
        "\n",
        "--> Sıfır matrisi: numpy.zeros((size), dtype=type)\n",
        "\n",
        "--> Bir matrisi: numpy.ones((size), dtype=type)\n",
        "\n",
        "# PROBLEM: KARE MATRİS İSKELETİ OLUŞTURMA\n",
        "\n",
        "Elimizde bulunan numpy imkanlarını da kullanarak dış katmanı her seferinde birlerden oluşan ve katmanlar içe doğru ilerledikçe bir tane sıfır bir tane bir katmanı olacak şekilde ilerleyen bir fonksiyon yazınız.\n",
        "\n",
        "Probleme yaklaşma kolaylığı bakımından birkaç ipucu verilecek olursa:\n",
        "\n",
        "--> Öncelikle istenilen boyutlarda iç içe kaç tane sıfır ve bir katmanı sığacağını bulunuz. Her katman 1 birim kalınlıkta olacağından sağ ve soldan 2 üst ve alttan 2 boyutluk matris alanı kaplayacaktır.\n",
        "\n",
        "--> Her seferinde dış katman birlerden oluşacağı için bir matrislerine öncelik veriniz.\n",
        "\n",
        "--> En nihayetinde en geniş 1 matrisinin içine en geniş 0 matrisini uygun şekilde yerleştiriniz. Ardından en genişten bir dar olan 1 matrisini en geniş sıfır matrisinin içine yerleştiriniz ve bu işlemi bir döngü olarak tekrar ediniz.\n",
        "\n",
        "## BODY FONKSİYONU\n",
        "\n",
        "--> def createAvailableSkeleton(size) yapısında bulunmalıdır.\n",
        "\n",
        "--> döndürdüğü değer iç içe 1 ve 0 barındıran tek bir arraydir"
      ],
      "metadata": {
        "id": "ckrY38aJoZhV"
      }
    },
    {
      "cell_type": "code",
      "metadata": {
        "id": "8A9z53C3K4IC"
      },
      "source": [
        "def createAvailableSkeleton(size):\n",
        "    # buraya kodunuzu yazın\n",
        "\n",
        "    return returnArray\n"
      ],
      "execution_count": 1,
      "outputs": []
    },
    {
      "cell_type": "code",
      "source": [
        "# SAMPLE OUT\n",
        "createAvailableSkeleton(10)"
      ],
      "metadata": {
        "colab": {
          "base_uri": "https://localhost:8080/"
        },
        "id": "BDeyjuL3sxwu",
        "outputId": "5e1cc5a6-7f76-46e6-d792-aa7433d94e06"
      },
      "execution_count": null,
      "outputs": [
        {
          "output_type": "execute_result",
          "data": {
            "text/plain": [
              "array([[1, 1, 1, 1, 1, 1, 1, 1, 1, 1],\n",
              "       [1, 0, 0, 0, 0, 0, 0, 0, 0, 1],\n",
              "       [1, 0, 1, 1, 1, 1, 1, 1, 0, 1],\n",
              "       [1, 0, 1, 0, 0, 0, 0, 1, 0, 1],\n",
              "       [1, 0, 1, 0, 1, 1, 0, 1, 0, 1],\n",
              "       [1, 0, 1, 0, 1, 1, 0, 1, 0, 1],\n",
              "       [1, 0, 1, 0, 0, 0, 0, 1, 0, 1],\n",
              "       [1, 0, 1, 1, 1, 1, 1, 1, 0, 1],\n",
              "       [1, 0, 0, 0, 0, 0, 0, 0, 0, 1],\n",
              "       [1, 1, 1, 1, 1, 1, 1, 1, 1, 1]])"
            ]
          },
          "metadata": {},
          "execution_count": 34
        }
      ]
    },
    {
      "cell_type": "code",
      "source": [
        "createAvailableSkeleton(20)"
      ],
      "metadata": {
        "colab": {
          "base_uri": "https://localhost:8080/"
        },
        "id": "yhdz1uofs1wN",
        "outputId": "ceaa18bc-a4d7-4414-e2e9-a10ef2f40f49"
      },
      "execution_count": null,
      "outputs": [
        {
          "output_type": "execute_result",
          "data": {
            "text/plain": [
              "array([[1, 1, 1, 1, 1, 1, 1, 1, 1, 1, 1, 1, 1, 1, 1, 1, 1, 1, 1, 1],\n",
              "       [1, 0, 0, 0, 0, 0, 0, 0, 0, 0, 0, 0, 0, 0, 0, 0, 0, 0, 0, 1],\n",
              "       [1, 0, 1, 1, 1, 1, 1, 1, 1, 1, 1, 1, 1, 1, 1, 1, 1, 1, 0, 1],\n",
              "       [1, 0, 1, 0, 0, 0, 0, 0, 0, 0, 0, 0, 0, 0, 0, 0, 0, 1, 0, 1],\n",
              "       [1, 0, 1, 0, 1, 1, 1, 1, 1, 1, 1, 1, 1, 1, 1, 1, 0, 1, 0, 1],\n",
              "       [1, 0, 1, 0, 1, 0, 0, 0, 0, 0, 0, 0, 0, 0, 0, 1, 0, 1, 0, 1],\n",
              "       [1, 0, 1, 0, 1, 0, 1, 1, 1, 1, 1, 1, 1, 1, 0, 1, 0, 1, 0, 1],\n",
              "       [1, 0, 1, 0, 1, 0, 1, 0, 0, 0, 0, 0, 0, 1, 0, 1, 0, 1, 0, 1],\n",
              "       [1, 0, 1, 0, 1, 0, 1, 0, 1, 1, 1, 1, 0, 1, 0, 1, 0, 1, 0, 1],\n",
              "       [1, 0, 1, 0, 1, 0, 1, 0, 1, 0, 0, 1, 0, 1, 0, 1, 0, 1, 0, 1],\n",
              "       [1, 0, 1, 0, 1, 0, 1, 0, 1, 0, 0, 1, 0, 1, 0, 1, 0, 1, 0, 1],\n",
              "       [1, 0, 1, 0, 1, 0, 1, 0, 1, 1, 1, 1, 0, 1, 0, 1, 0, 1, 0, 1],\n",
              "       [1, 0, 1, 0, 1, 0, 1, 0, 0, 0, 0, 0, 0, 1, 0, 1, 0, 1, 0, 1],\n",
              "       [1, 0, 1, 0, 1, 0, 1, 1, 1, 1, 1, 1, 1, 1, 0, 1, 0, 1, 0, 1],\n",
              "       [1, 0, 1, 0, 1, 0, 0, 0, 0, 0, 0, 0, 0, 0, 0, 1, 0, 1, 0, 1],\n",
              "       [1, 0, 1, 0, 1, 1, 1, 1, 1, 1, 1, 1, 1, 1, 1, 1, 0, 1, 0, 1],\n",
              "       [1, 0, 1, 0, 0, 0, 0, 0, 0, 0, 0, 0, 0, 0, 0, 0, 0, 1, 0, 1],\n",
              "       [1, 0, 1, 1, 1, 1, 1, 1, 1, 1, 1, 1, 1, 1, 1, 1, 1, 1, 0, 1],\n",
              "       [1, 0, 0, 0, 0, 0, 0, 0, 0, 0, 0, 0, 0, 0, 0, 0, 0, 0, 0, 1],\n",
              "       [1, 1, 1, 1, 1, 1, 1, 1, 1, 1, 1, 1, 1, 1, 1, 1, 1, 1, 1, 1]])"
            ]
          },
          "metadata": {},
          "execution_count": 36
        }
      ]
    },
    {
      "cell_type": "markdown",
      "source": [
        "\n",
        "## PLOT FONKSİYONU\n",
        "\n",
        "--> Derste göreceğimiz görselleştirme tekniklerinden birisi olan matplotlib.imshow() tekniği kullanılarak bir plot fonksiyonu yazılmıştır.\n",
        "\n",
        "--> plotSkeleton() fonksiyonu içerisine verilen skeleton parametresi yazmış olduğunuz fonksiyonun kendisi olacaktır. inner_size parametresi de fonksiyonunuzun aldığı size parametresidir. Bu şekilde fonksiyon çıktınızı görselleştirebilirsiniz."
      ],
      "metadata": {
        "id": "LCtANUrnsgMe"
      }
    },
    {
      "cell_type": "code",
      "source": [
        "import matplotlib.pyplot as plt\n",
        "\n",
        "def plotSkeleton(skeleton, inner_size=20):\n",
        "    skltn = skeleton(inner_size)\n",
        "    plt.imshow(skltn, cmap='Greys')\n",
        "    plt.gcf().set_size_inches(10, 10)"
      ],
      "metadata": {
        "id": "o2mD2Qf-ohk6"
      },
      "execution_count": null,
      "outputs": []
    },
    {
      "cell_type": "code",
      "source": [
        "plotSkeleton(createAvailableSkeleton, 12)"
      ],
      "metadata": {
        "colab": {
          "base_uri": "https://localhost:8080/",
          "height": 830
        },
        "id": "PHdXeBlXoYQS",
        "outputId": "33659e08-3b09-4c84-eb63-d99517f5c398"
      },
      "execution_count": null,
      "outputs": [
        {
          "output_type": "display_data",
          "data": {
            "text/plain": [
              "<Figure size 1000x1000 with 1 Axes>"
            ],
            "image/png": "[encoded data removed]"
          },
          "metadata": {}
        }
      ]
    },
    {
      "cell_type": "code",
      "source": [
        "plotSkeleton(createAvailableSkeleton, 1000)"
      ],
      "metadata": {
        "colab": {
          "base_uri": "https://localhost:8080/",
          "height": 835
        },
        "id": "TejN-6WvtGJN",
        "outputId": "21a32bdc-f02e-4e9a-ea9d-9c3fe46ae0de"
      },
      "execution_count": null,
      "outputs": [
        {
          "output_type": "display_data",
          "data": {
            "text/plain": [
              "<Figure size 1000x1000 with 1 Axes>"
            ],
            "image/png": "[encoded data removed]"
          },
          "metadata": {}
        }
      ]
    }
  ]
}