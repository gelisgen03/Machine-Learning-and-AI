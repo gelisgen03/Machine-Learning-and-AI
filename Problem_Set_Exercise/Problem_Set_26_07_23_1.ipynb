{
  "nbformat": 4,
  "nbformat_minor": 0,
  "metadata": {
    "colab": {
      "provenance": []
    },
    "kernelspec": {
      "name": "python3",
      "display_name": "Python 3"
    },
    "language_info": {
      "name": "python"
    }
  },
  "cells": [
    {
      "cell_type": "markdown",
      "source": [
        "# SAAT AÇI PROBLEMİ\n",
        "\n",
        "Günün yarım dilimlik her saatinde akrep ve yelkovanın mutlak kuzeye göre açısını ve aralarındaki açı farkını akrepi referans alacak şekilde hesaplayan ve bir sözlük içerisine bunları yazan bir kod yazınız.\n",
        "\n",
        "Yazacağınız kod 0:00 ve 11:59 saatleri arasındaki tüm saatleri aşağıdaki örnekteki gibi içermelidir.\n",
        "\n",
        "**Trick:** Mutlak kuzey saatte 12'yi göstermektedir ve mutlak kuzey açısı 0 derecedir. Yelkovan açıları direkt o anki dakikadan hesaplanabilir. Fakat akrep açılarını hesaplarken o anki saati ve dakikayı esas almalısınız.\n",
        "\n",
        "**Mesela: **Saat 3:10 iken yelkovan 60 dereceyi göstermektedir. Akrep ise 90 derece + (3 ve 4 arasındaki yolun 1/6sı) şeklinde bir açıyı temsil etmelidir.\n",
        "\n",
        "Aşağıdaki örnekten anlaşılacağı üzere açılar mutlak kuzeyden saat yönüne doğru artmaktadır.\n",
        "\n",
        "![image.png](data:image/png;base64,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)"
      ],
      "metadata": {
        "id": "pX-nU-EutxLg"
      }
    },
    {
      "cell_type": "code",
      "execution_count": null,
      "metadata": {
        "id": "YpYEBgpstv2Y"
      },
      "outputs": [],
      "source": [
        "# SOZLUK TANIMLAMA\n",
        "hourDegreeDict = {}\n",
        "\n",
        "# Sozluge eleman ekleme\n",
        "hourDegreeDict[\"3:00\"]  = {\"hourHand\": 90,  \"minuteHand\": 0, \"difference\": 90}\n",
        "hourDegreeDict[\"6:00\"]  = {\"hourHand\": 180, \"minuteHand\": 0, \"difference\": 180}\n",
        "hourDegreeDict[\"9:00\"]  = {\"hourHand\": 270, \"minuteHand\": 0, \"difference\": 270}\n",
        "hourDegreeDict[\"0:00\"] = {\"hourHand\": 0,   \"minuteHand\": 0, \"difference\": 0}\n",
        "print(hourDegreeDict)"
      ]
    },
    {
      "cell_type": "markdown",
      "source": [
        "Örnek çıktılar aşağıdaki gibi olmalıdır:"
      ],
      "metadata": {
        "id": "mOyked3Nt8dw"
      }
    },
    {
      "cell_type": "code",
      "source": [
        "print(\"11:27\", \":\", hourDegreeDictByMinute[\"11:27\"])\n",
        "print(\"00:37\", \":\", hourDegreeDictByMinute[\"00:37\"])\n",
        "print(\"05:25\", \":\", hourDegreeDictByMinute[\"00:25\"])"
      ],
      "metadata": {
        "colab": {
          "base_uri": "https://localhost:8080/"
        },
        "id": "VryNlQoJt68B",
        "outputId": "e72ca331-7787-40e9-a560-8d30c7c708b7"
      },
      "execution_count": null,
      "outputs": [
        {
          "output_type": "stream",
          "name": "stdout",
          "text": [
            "11:27 : {'hourHand': 343.5, 'minuteHand': 162.0, 'difference': 181.5}\n",
            "00:37 : {'hourHand': 343.5, 'minuteHand': 162.0, 'difference': 181.5}\n",
            "05:25 : {'hourHand': 343.5, 'minuteHand': 162.0, 'difference': 181.5}\n"
          ]
        }
      ]
    },
    {
      "cell_type": "code",
      "source": [
        "# CODE HERE\n"
      ],
      "metadata": {
        "id": "OpiocuBFu75Z"
      },
      "execution_count": null,
      "outputs": []
    },
    {
      "cell_type": "markdown",
      "source": [
        "# KARE KONSTRİKSÜYONU PROBLEMİ\n",
        "\n",
        "İki boyutlu mutlak sıfır noktası (x,y) = (0, 0) olan uzayda ilgili özelliklere sahip kareler bir sözlük yapısı içerisinde tutulmaktadır.\n",
        "\n",
        "\"kare1\": {\"merkez\": (x,y)}\n",
        "\n",
        "Burada x,y verileri <float> türündendir.\n",
        "\n",
        "**İlgili problemde tüm karelerin kenarları x ve y eksenlerine paraleldir.**\n",
        "\n",
        "Tüm kareleri barındıran bir sözlük yapısında verilen girdiye karşılık olarak tüm karelerin kesişim noktalarını hesaplayan bir fonksiyon yazınız.\n",
        "\n",
        "Fonksiyon yapı olarak: **calculate_square_const(squares)** şeklindedir.\n",
        "\n",
        "Burada squares karelerin listesini, edge_length ise her bir karenin kenar uzunluğunu içermektedir.\n",
        "\n",
        "Örnek çıktı aşağıdaki gibi olmalıdır."
      ],
      "metadata": {
        "id": "yBKvo7EGt_p4"
      }
    },
    {
      "cell_type": "code",
      "source": [
        "kareler = {\"kare1\": {\"merkez\": (0.5, 0.5),  \"kenar\": 3.0},\n",
        "           \"kare2\": {\"merkez\": (-0.5,-0.5), \"kenar\": 2.0}}\n",
        "calculate_square_const(kareler)"
      ],
      "metadata": {
        "colab": {
          "base_uri": "https://localhost:8080/"
        },
        "outputId": "1b3dc236-3e4a-4fa5-8aba-912e874ebe93",
        "id": "luLyJr4xn-93"
      },
      "execution_count": null,
      "outputs": [
        {
          "output_type": "stream",
          "name": "stdout",
          "text": [
            "[-1.0, -1.0] [[0.5, 0.5], [0.5, -1.5], [-1.5, -1.5], [-1.5, 0.5]]\n",
            "[0.5, 0.5] [[2.0, 2.0], [2.0, -1.0], [-1.0, -1.0], [-1.0, 2.0]]\n"
          ]
        },
        {
          "output_type": "execute_result",
          "data": {
            "text/plain": [
              "{'kare1': {'kare2': [[-1.0, 0.5], [0.5, -1.0]]},\n",
              " 'kare2': {'kare1': [[0.5, -1.0], [-1.0, 0.5]]}}"
            ]
          },
          "metadata": {},
          "execution_count": 5
        }
      ]
    },
    {
      "cell_type": "code",
      "source": [
        "def calculate_square_const(squares):\n",
        "    # CODE HERE\n",
        "    return"
      ],
      "metadata": {
        "id": "C-SThf5tu1eI"
      },
      "execution_count": null,
      "outputs": []
    }
  ]
}